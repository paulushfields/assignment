{
 "cells": [
  {
   "cell_type": "markdown",
   "source": [
    "Data Exploration"
   ],
   "metadata": {}
  },
  {
   "cell_type": "code",
   "execution_count": 1,
   "source": [
    "import pandas as pd\r\n",
    "import json"
   ],
   "outputs": [],
   "metadata": {}
  },
  {
   "cell_type": "code",
   "execution_count": 2,
   "source": [
    "DATA_FILE = \"global_cities_data_set.json\"\r\n",
    "file_object = open(DATA_FILE,)\r\n",
    "data = json.load(file_object)"
   ],
   "outputs": [],
   "metadata": {}
  },
  {
   "cell_type": "code",
   "execution_count": 3,
   "source": [
    "#Inspect data\r\n",
    "print(data['data'][0])\r\n",
    "print(data['data'][1])\r\n",
    "#print(data['data'][558346])\r\n",
    "#print(data['data'][579672])\r\n",
    "#print(data['data'][579673])\r\n",
    "#print(data['data'][2])\r\n"
   ],
   "outputs": [
    {
     "output_type": "stream",
     "name": "stdout",
     "text": [
      "{'year': '2023', 'indicator_name': 'Consumer spending by product / service - Furniture and furnishings, carpets and other floor coverings', 'geography_iso': 'AUT', 'geography_country': 'Austria', 'geographyid': 'AT111', 'geographyname': 'AT111 - Mittelburgenland', 'value_unit': nan, 'databank': 'EUREG', 'value': 28556485.914822906}\n",
      "{'year': '2023', 'indicator_name': 'Consumer spending by product / service - Household and garden tools and equipment', 'geography_iso': 'AUT', 'geography_country': 'Austria', 'geographyid': 'AT111', 'geographyname': 'AT111 - Mittelburgenland', 'value_unit': nan, 'databank': 'EUREG', 'value': 5781600.787580578}\n"
     ]
    }
   ],
   "metadata": {}
  },
  {
   "cell_type": "code",
   "execution_count": 49,
   "source": [
    "df = pd.json_normalize(data['data'])\r\n",
    "print(df.columns.values)\r\n",
    "print(df.dtypes)\r\n",
    "\r\n",
    "df.year = df.year.astype('int32')\r\n",
    "print(df.dtypes)"
   ],
   "outputs": [
    {
     "output_type": "stream",
     "name": "stdout",
     "text": [
      "['year' 'indicator_name' 'geography_iso' 'geography_country' 'geographyid'\n",
      " 'geographyname' 'value_unit' 'databank' 'value']\n",
      "year                  object\n",
      "indicator_name        object\n",
      "geography_iso         object\n",
      "geography_country     object\n",
      "geographyid           object\n",
      "geographyname         object\n",
      "value_unit            object\n",
      "databank              object\n",
      "value                float64\n",
      "dtype: object\n",
      "year                   int32\n",
      "indicator_name        object\n",
      "geography_iso         object\n",
      "geography_country     object\n",
      "geographyid           object\n",
      "geographyname         object\n",
      "value_unit            object\n",
      "databank              object\n",
      "value                float64\n",
      "dtype: object\n"
     ]
    }
   ],
   "metadata": {}
  },
  {
   "cell_type": "code",
   "execution_count": 37,
   "source": [
    "\r\n",
    "indicator_groups = [\r\n",
    "    'Household numbers by income band',\r\n",
    "    'Population',\r\n",
    "    'Consumer spending by product'\r\n",
    "]\r\n",
    "\r\n",
    "indicator_groups_strings = (\r\n",
    "    'Household numbers by income band',\r\n",
    "    'Population',\r\n",
    "    'Consumer spending by product'\r\n",
    ")\r\n",
    "\r\n",
    "other_indicators = []\r\n",
    "\r\n",
    "for word in df.indicator_name.unique()[:]:\r\n",
    "    if not word.startswith(indicator_groups_strings):\r\n",
    "        other_indicators.append(word)\r\n",
    "\r\n",
    "# Create separate files for indicators.\r\n",
    "for indicator in other_indicators:\r\n",
    "    df_filtered = df[(df['indicator_name'] == indicator)]\r\n",
    "    filtered_file_name = \"data/\" + indicator.replace(\" \", \"_\"). \\\r\n",
    "       replace(\",\", \"_\").replace(\"/\", \"_\") + '.csv'\r\n",
    "    df_filtered.to_csv(filtered_file_name, sep=\";\", encoding=\"utf-8\")\r\n",
    "\r\n",
    "# Group some indicators into one file.\r\n",
    "for indicator_group in indicator_groups:\r\n",
    "    df_filtered = df[(df['indicator_name'].str.startswith(indicator_group))]\r\n",
    "    filtered_file_name = \"data/\" + indicator_group + '.csv'\r\n",
    "    df_filtered.to_csv(filtered_file_name, sep=\";\", encoding=\"utf-8\")\r\n",
    "\r\n",
    "df.to_csv(\"data/total_set.csv\", sep=\";\", encoding=\"utf-8\")"
   ],
   "outputs": [
    {
     "output_type": "stream",
     "name": "stdout",
     "text": [
      "['Total households', 'Average household size', 'Household disposable income, per household, real', 'Total population', 'Household disposable income, real', 'Gross domestic product, real', 'Household disposable income, per household, nominal', 'Homeownership rate', 'Housing permits - multi family', 'Housing permits - single family', 'Housing permits - total', 'Housing starts - multi family', 'Housing starts - single family', 'Housing starts - total', 'Income from employment, nominal', 'Income from rent, dividends and interest, nominal', 'Income taxes, nominal', 'Labor force', 'Labor force participation rate', 'Median household income, real', 'Personal disposable income, per capita, real', 'Personal disposable income, per household, real', 'Personal income, per capita, real', 'Personal income, per household, real', 'Proprietors incomes, nominal', 'Social security payments, nominal', 'Unemployment level', 'Unemployment rate', 'CREA house price index', 'Housing starts', 'Labour force participation rate', 'New housing price index', 'Residential building permits', 'Births', 'Deaths', 'Employment - Industry', 'Net migration (including statistical adjustment)', 'Employment - Transport, storage, information & communication services', 'Urban Total Population']\n"
     ]
    }
   ],
   "metadata": {}
  },
  {
   "cell_type": "code",
   "execution_count": null,
   "source": [
    "file_object.close()"
   ],
   "outputs": [],
   "metadata": {}
  },
  {
   "cell_type": "code",
   "execution_count": 29,
   "source": [
    "\r\n",
    "df_households = pd.read_csv(\r\n",
    "    \"data/Household numbers by income band_ext.csv\",\r\n",
    "    sep=\";\",\r\n",
    "    encoding=\"utf8\")\r\n",
    "\r\n",
    "column_names=[\r\n",
    "    'geographyid',\r\n",
    "    'year'\r\n",
    "]\r\n",
    "\r\n",
    "df_households_ext = pd.DataFrame(columns = column_names)\r\n",
    "household_value_colum_names = []\r\n",
    "\r\n",
    "# Create single data points\r\n",
    "indicator_names = df_households.indicator_name.unique()\r\n",
    "for indicator_name in indicator_names:\r\n",
    "    df_select = df_households[df_households.indicator_name == indicator_name] \r\n",
    "    column_name = indicator_name. \\\r\n",
    "        replace(\"Consumer spending by product / service - \", \"\"). \\\r\n",
    "        replace(\",\", \"\"). \\\r\n",
    "        replace(\" \", \"_\"). \\\r\n",
    "        replace(\"-\", \"\")\r\n",
    "    print(\"column_name: \", column_name)\r\n",
    "    household_value_colum_names.append(column_name)\r\n",
    "    df_select[column_name] = df_select['value']\r\n",
    "    frames = [df_households_ext, df_select]\r\n",
    "    df_households_ext = pd.concat(frames)\r\n",
    "\r\n",
    "#print(household_value_colum_names)\r\n",
    "\r\n",
    "columns_to_drop = [\r\n",
    "    'Unnamed: 0',\r\n",
    "    'indicator_name',\r\n",
    "    'geography_iso',\r\n",
    "    'geography_country',\r\n",
    "    'geographyname',\r\n",
    "    'value_unit',\r\n",
    "    'databank',\r\n",
    "    'value'\r\n",
    "    ]\r\n",
    "\r\n",
    "df_households_ext = df_households_ext.drop(columns_to_drop, axis = 1)\r\n",
    "\r\n",
    "df_households_ext.to_csv(\"data/Household numbers by income band_ext2.csv\",\r\n",
    "    sep=\";\",\r\n",
    "    encoding=\"utf8\")\r\n"
   ],
   "outputs": [
    {
     "output_type": "stream",
     "name": "stderr",
     "text": [
      "c:\\git\\assignment\\tmp\\python\\assignment-venv\\lib\\site-packages\\pandas\\core\\frame.py:3607: SettingWithCopyWarning: \n",
      "A value is trying to be set on a copy of a slice from a DataFrame.\n",
      "Try using .loc[row_indexer,col_indexer] = value instead\n",
      "\n",
      "See the caveats in the documentation: https://pandas.pydata.org/pandas-docs/stable/user_guide/indexing.html#returning-a-view-versus-a-copy\n",
      "  self._set_item(key, value)\n"
     ]
    }
   ],
   "metadata": {}
  },
  {
   "cell_type": "code",
   "execution_count": 51,
   "source": [
    "import pandas as pd\r\n",
    "\r\n",
    "file_list = [\r\n",
    "    'Consumer spending by product',\r\n",
    "    'Population',\r\n",
    "    'Household numbers by income band'\r\n",
    "]\r\n",
    "\r\n",
    "df_data = pd.read_csv(\r\n",
    "    \"data/Population.csv\",\r\n",
    "    sep=\";\",\r\n",
    "    encoding=\"utf8\")\r\n",
    "\r\n",
    "print(\"columns: \", df_data.columns.values)\r\n",
    "print(\"shape: \", df_data.shape)\r\n",
    "\r\n",
    "# df_data = df_data.head(10000)\r\n",
    "# print(\"shape: \", df_data.shape)\r\n",
    "\r\n",
    "consumer_value_colum_names = []\r\n",
    "\r\n",
    "columns_to_drop = [\r\n",
    "    'Unnamed: 0',\r\n",
    "    'indicator_name',\r\n",
    "    'geography_iso',\r\n",
    "    'geography_country',\r\n",
    "    'geographyname',\r\n",
    "    'value_unit',\r\n",
    "    'databank',\r\n",
    "    'value'\r\n",
    "    ]\r\n",
    "\r\n",
    "# Sum values\r\n",
    "df_grouped = df_data.groupby(by=['year', 'geographyid']).sum()\r\n",
    "# Back to data frame\r\n",
    "df_sum = df_grouped.reset_index()\r\n",
    "\r\n",
    "def calculate_ratio(par_year, par_geographyid, par_value):\r\n",
    "    df_filtered_sum = df_sum[(df_sum['year'] == par_year) &\r\n",
    "        (df_sum['geographyid'] == par_geographyid)].sum()\r\n",
    "    #print(df_filter)\r\n",
    "    return par_value / df_filtered_sum.values[3]\r\n",
    "\r\n",
    "df_data['population_ratio'] = df_data.apply(\r\n",
    "        lambda row : calculate_ratio(\r\n",
    "            row['year'],\r\n",
    "            row['geographyid'],\r\n",
    "            row['value']), axis = 1)\r\n",
    "\r\n",
    "print(\"shape: \", df_data.shape)\r\n",
    "\r\n",
    "\r\n",
    "df_data.to_csv(\"data/Population_ext.csv\",\r\n",
    "     sep=\";\",\r\n",
    "     encoding=\"utf8\")\r\n",
    "\r\n",
    "print(\"End\")\r\n"
   ],
   "outputs": [
    {
     "output_type": "stream",
     "name": "stdout",
     "text": [
      "columns:  ['Unnamed: 0' 'year' 'indicator_name' 'geography_iso' 'geography_country'\n",
      " 'geographyid' 'geographyname' 'value_unit' 'databank' 'value']\n",
      "shape:  (270232, 10)\n",
      "shape:  (270232, 11)\n"
     ]
    }
   ],
   "metadata": {}
  },
  {
   "cell_type": "code",
   "execution_count": 9,
   "source": [
    "import pandas as pd\r\n",
    "\r\n",
    "file_list = [\r\n",
    "    'Consumer spending by product',\r\n",
    "    'Population',\r\n",
    "    'Household numbers by income band'\r\n",
    "]\r\n",
    "\r\n",
    "df_consumer_spend = pd.read_csv(\r\n",
    "    \"data/Consumer spending by product.csv\",\r\n",
    "    sep=\";\",\r\n",
    "    encoding=\"utf8\")\r\n",
    "\r\n",
    "print(\"shape: \", df_consumer_spend.shape)\r\n",
    "\r\n",
    "#df_consumer_spend = df_consumer_spend.head(200000)\r\n",
    "\r\n",
    "#print(\"shape: \", df_consumer_spend.shape)\r\n",
    "\r\n",
    "consumer_value_colum_names = []\r\n",
    "\r\n",
    "columns_to_drop = [\r\n",
    "    'Unnamed: 0',\r\n",
    "    'indicator_name',\r\n",
    "    'geography_iso',\r\n",
    "    'geography_country',\r\n",
    "    'geographyname',\r\n",
    "    'value_unit',\r\n",
    "    'databank',\r\n",
    "    'value'\r\n",
    "    ]\r\n",
    "\r\n",
    "# remove unnecessary columns\r\n",
    "#df_consumer_spend = df_consumer_spend.loc[:, ['year', 'geographyid', 'value']]\r\n",
    "#df_one = df_consumer_spend[(df_consumer_spend['year'] == 2018) &\r\n",
    "#                           (df_consumer_spend['geographyid'] == 'CIV001')]\r\n",
    "#print(\"sum: \", df_one.value.sum())\r\n",
    "\r\n",
    "# Sum values\r\n",
    "df_grouped = df_consumer_spend.groupby(by=['year', 'geographyid']).sum()\r\n",
    "# Back to data frame\r\n",
    "df_sum = df_grouped.reset_index()\r\n",
    "\r\n",
    "#df_sum.to_csv(\"data/df_sum.csv\", sep=\";\", encoding=\"utf8\")\r\n",
    "#sum = df_sum[(df_sum['year'] == 2018) & (df_sum['geographyid'] == 'CIV001')].sum()\r\n",
    "#print(\"sum: \", sum)\r\n",
    "#print(df_grouped.apply(lambda g: g[g['geographyid'] == 'CIV001']))\r\n",
    "\r\n",
    "def calculate_ratio(par_year, par_geographyid, par_value):\r\n",
    "    df_filtered_sum = df_sum[(df_sum['year'] == par_year) &\r\n",
    "        (df_sum['geographyid'] == par_geographyid)].sum()\r\n",
    "    #print(df_filter)\r\n",
    "    return par_value / df_filtered_sum.values[3]\r\n",
    "\r\n",
    "# def calculate_sum(par_year, par_geographyid, par_value):\r\n",
    "#     df_filter = df_sum[(df_sum['year'] == par_year) &\r\n",
    "#         (df_sum['geographyid'] == par_geographyid)].sum()\r\n",
    "#     print(df_filter)\r\n",
    "#     return df_filter.values[3]\r\n",
    "\r\n",
    "df_consumer_spend['spend_ratio'] = df_consumer_spend.apply(\r\n",
    "        lambda row : calculate_ratio(\r\n",
    "            row['year'],\r\n",
    "            row['geographyid'],\r\n",
    "            row['value']), axis = 1)\r\n",
    "\r\n",
    "# df_consumer_spend['spend_sum'] = df_consumer_spend.apply(\r\n",
    "#         lambda row : calculate_sum(\r\n",
    "#             row['year'],\r\n",
    "#             row['geographyid'],\r\n",
    "#             row['value']), axis = 1)\r\n",
    "\r\n",
    "print(\"shape: \", df_consumer_spend.shape)\r\n",
    "\r\n",
    "df_consumer_spend.to_csv(\"data/Consumer spending by product_ext.csv\",\r\n",
    "     sep=\";\",\r\n",
    "     encoding=\"utf8\")\r\n",
    "\r\n"
   ],
   "outputs": [
    {
     "output_type": "stream",
     "name": "stdout",
     "text": [
      "shape:  (225109, 10)\n",
      "shape:  (225109, 11)\n"
     ]
    }
   ],
   "metadata": {}
  },
  {
   "cell_type": "code",
   "execution_count": 70,
   "source": [
    "df_data = pd.read_csv(\r\n",
    "    \"data/Consumer spending by product_ext.csv\",\r\n",
    "    sep=\";\",\r\n",
    "    encoding=\"utf8\")\r\n",
    "\r\n",
    "print(\"shape: \", df_data.shape)\r\n",
    "\r\n",
    "#Todo something weird happening 80000 and 90000\r\n",
    "df_data = df_data.head(80000)\r\n",
    "\r\n",
    "print(\"shape: \", df_data.shape)\r\n",
    "\r\n",
    "column_names = []\r\n",
    "df_data_ext = pd.DataFrame()\r\n",
    "\r\n",
    "columns_to_drop = [\r\n",
    "    'Unnamed: 0',\r\n",
    "    'indicator_name',\r\n",
    "    'geography_iso',\r\n",
    "    'geography_country',\r\n",
    "    'geographyname',\r\n",
    "    'value_unit',\r\n",
    "    'databank',\r\n",
    "    'value',\r\n",
    "    'spend_ratio'\r\n",
    "    ]\r\n",
    "\r\n",
    "# Create single data points\r\n",
    "indicator_names = df_data.indicator_name.unique()\r\n",
    "for indicator_name in indicator_names:\r\n",
    "    df_select = df_data[df_data.indicator_name == indicator_name] \r\n",
    "    column_name = indicator_name. \\\r\n",
    "        replace(\"Consumer spending by product / service - \", \"\"). \\\r\n",
    "        replace(\",\", \"\"). \\\r\n",
    "        replace(\" \", \"_\"). \\\r\n",
    "        replace(\"-\", \"\"). \\\r\n",
    "        lower()\r\n",
    "    print(\"column_name: \", column_name)\r\n",
    "    column_names.append(column_name)\r\n",
    "    df_select[column_name] = df_select['spend_ratio']\r\n",
    "    df_select = df_select.drop(columns_to_drop, axis=1)\r\n",
    "    df_select = df_select.loc[:, (\"geographyid\", \"year\", column_name)]\r\n",
    "\r\n",
    "    if (len(df_data_ext) == 0):\r\n",
    "        df_data_ext = df_select\r\n",
    "    else:\r\n",
    "        df_data_ext = df_data_ext.merge(\r\n",
    "            right=df_select,\r\n",
    "            on=[\"geographyid\", \"year\"],\r\n",
    "            how=\"outer\")\r\n",
    "\r\n",
    "    print(\"Shape: \", df_data_ext.shape)\r\n",
    "\r\n",
    "#df_data_ext = df_data_ext.drop(columns_to_drop, axis=1)\r\n",
    "\r\n",
    "df_data_ext.to_csv(\"data/Consumer spending by product_ext2.csv\",\r\n",
    "    sep=\";\",\r\n",
    "    encoding=\"utf8\")\r\n",
    "\r\n",
    "print(\"End\")"
   ],
   "outputs": [
    {
     "output_type": "stream",
     "name": "stderr",
     "text": [
      "c:\\git\\assignment\\tmp\\python\\assignment-venv\\lib\\site-packages\\IPython\\core\\interactiveshell.py:3441: DtypeWarning: Columns (8) have mixed types.Specify dtype option on import or set low_memory=False.\n",
      "  exec(code_obj, self.user_global_ns, self.user_ns)\n",
      "c:\\git\\assignment\\tmp\\python\\assignment-venv\\lib\\site-packages\\pandas\\core\\frame.py:3607: SettingWithCopyWarning: \n",
      "A value is trying to be set on a copy of a slice from a DataFrame.\n",
      "Try using .loc[row_indexer,col_indexer] = value instead\n",
      "\n",
      "See the caveats in the documentation: https://pandas.pydata.org/pandas-docs/stable/user_guide/indexing.html#returning-a-view-versus-a-copy\n",
      "  self._set_item(key, value)\n"
     ]
    },
    {
     "output_type": "stream",
     "name": "stdout",
     "text": [
      "shape:  (225109, 12)\n",
      "shape:  (80000, 12)\n",
      "column_name:  furniture_and_furnishings_carpets_and_other_floor_coverings\n",
      "Shape:  (11429, 3)\n",
      "column_name:  household_and_garden_tools_and_equipment\n",
      "Shape:  (11429, 4)\n",
      "column_name:  household_appliances\n",
      "Shape:  (11429, 5)\n",
      "column_name:  household_furnishings_household_equipment_and_other_housing_expenditure__total\n",
      "Shape:  (11429, 6)\n",
      "column_name:  household_glassware_tableware_and_household_utensils\n",
      "Shape:  (11429, 7)\n",
      "column_name:  household_textiles\n",
      "Shape:  (11429, 8)\n",
      "column_name:  routine_household_maintenance_goods_and_services\n",
      "Shape:  (11429, 9)\n",
      "End\n"
     ]
    }
   ],
   "metadata": {}
  },
  {
   "cell_type": "code",
   "execution_count": null,
   "source": [
    "\r\n",
    "\r\n",
    "df_merged1 = df_households_ext.merge(\r\n",
    "    df_population_ext,\r\n",
    "    on=[\"geographyid\", \"year\"])\r\n",
    "\r\n",
    "df_consumer_spend_ext\r\n",
    "df_population_ext\r\n",
    "df_households_ext\r\n",
    "\r\n",
    "df_merged1.to_csv(\"data/df_merged.csv\", sep=\";\", encoding=\"utf8\")"
   ],
   "outputs": [],
   "metadata": {}
  }
 ],
 "metadata": {
  "orig_nbformat": 4,
  "language_info": {
   "name": "python",
   "version": "3.7.9",
   "mimetype": "text/x-python",
   "codemirror_mode": {
    "name": "ipython",
    "version": 3
   },
   "pygments_lexer": "ipython3",
   "nbconvert_exporter": "python",
   "file_extension": ".py"
  },
  "kernelspec": {
   "name": "python3",
   "display_name": "Python 3.7.9 64-bit ('assignment-venv': venv)"
  },
  "interpreter": {
   "hash": "fee9289b9a52d917789962c3013490bc2b85849b99b177a8bae5cb7010a89db6"
  }
 },
 "nbformat": 4,
 "nbformat_minor": 2
}