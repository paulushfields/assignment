{
 "cells": [
  {
   "cell_type": "markdown",
   "source": [
    "Data Exploration"
   ],
   "metadata": {}
  },
  {
   "cell_type": "code",
   "execution_count": 1,
   "source": [
    "import pandas as pd\r\n",
    "import json"
   ],
   "outputs": [],
   "metadata": {}
  },
  {
   "cell_type": "code",
   "execution_count": 2,
   "source": [
    "DATA_FILE = \"global_cities_data_set.json\"\r\n",
    "file_object = open(DATA_FILE,)\r\n",
    "data = json.load(file_object)"
   ],
   "outputs": [],
   "metadata": {}
  },
  {
   "cell_type": "code",
   "execution_count": 3,
   "source": [
    "#Inspect data\r\n",
    "print(data['data'][0])\r\n",
    "print(data['data'][1])\r\n",
    "#print(data['data'][558346])\r\n",
    "#print(data['data'][579672])\r\n",
    "#print(data['data'][579673])\r\n",
    "#print(data['data'][2])\r\n"
   ],
   "outputs": [
    {
     "output_type": "stream",
     "name": "stdout",
     "text": [
      "{'year': '2023', 'indicator_name': 'Consumer spending by product / service - Furniture and furnishings, carpets and other floor coverings', 'geography_iso': 'AUT', 'geography_country': 'Austria', 'geographyid': 'AT111', 'geographyname': 'AT111 - Mittelburgenland', 'value_unit': nan, 'databank': 'EUREG', 'value': 28556485.914822906}\n",
      "{'year': '2023', 'indicator_name': 'Consumer spending by product / service - Household and garden tools and equipment', 'geography_iso': 'AUT', 'geography_country': 'Austria', 'geographyid': 'AT111', 'geographyname': 'AT111 - Mittelburgenland', 'value_unit': nan, 'databank': 'EUREG', 'value': 5781600.787580578}\n"
     ]
    }
   ],
   "metadata": {}
  },
  {
   "cell_type": "code",
   "execution_count": 49,
   "source": [
    "df = pd.json_normalize(data['data'])\r\n",
    "print(df.columns.values)\r\n",
    "print(df.dtypes)\r\n",
    "\r\n",
    "df.year = df.year.astype('int32')\r\n",
    "print(df.dtypes)"
   ],
   "outputs": [
    {
     "output_type": "stream",
     "name": "stdout",
     "text": [
      "['year' 'indicator_name' 'geography_iso' 'geography_country' 'geographyid'\n",
      " 'geographyname' 'value_unit' 'databank' 'value']\n",
      "year                  object\n",
      "indicator_name        object\n",
      "geography_iso         object\n",
      "geography_country     object\n",
      "geographyid           object\n",
      "geographyname         object\n",
      "value_unit            object\n",
      "databank              object\n",
      "value                float64\n",
      "dtype: object\n",
      "year                   int32\n",
      "indicator_name        object\n",
      "geography_iso         object\n",
      "geography_country     object\n",
      "geographyid           object\n",
      "geographyname         object\n",
      "value_unit            object\n",
      "databank              object\n",
      "value                float64\n",
      "dtype: object\n"
     ]
    }
   ],
   "metadata": {}
  },
  {
   "cell_type": "code",
   "execution_count": 37,
   "source": [
    "\r\n",
    "indicator_groups = [\r\n",
    "    'Household numbers by income band',\r\n",
    "    'Population',\r\n",
    "    'Consumer spending by product'\r\n",
    "]\r\n",
    "\r\n",
    "indicator_groups_strings = (\r\n",
    "    'Household numbers by income band',\r\n",
    "    'Population',\r\n",
    "    'Consumer spending by product'\r\n",
    ")\r\n",
    "\r\n",
    "other_indicators = []\r\n",
    "\r\n",
    "for word in df.indicator_name.unique()[:]:\r\n",
    "    if not word.startswith(indicator_groups_strings):\r\n",
    "        other_indicators.append(word)\r\n",
    "\r\n",
    "# Create separate files for indicators.\r\n",
    "for indicator in other_indicators:\r\n",
    "    df_filtered = df[(df['indicator_name'] == indicator)]\r\n",
    "    filtered_file_name = \"data/\" + indicator.replace(\" \", \"_\"). \\\r\n",
    "       replace(\",\", \"_\").replace(\"/\", \"_\") + '.csv'\r\n",
    "    df_filtered.to_csv(filtered_file_name, sep=\";\", encoding=\"utf-8\")\r\n",
    "\r\n",
    "# Group some indicators into one file.\r\n",
    "for indicator_group in indicator_groups:\r\n",
    "    df_filtered = df[(df['indicator_name'].str.startswith(indicator_group))]\r\n",
    "    filtered_file_name = \"data/\" + indicator_group + '.csv'\r\n",
    "    df_filtered.to_csv(filtered_file_name, sep=\";\", encoding=\"utf-8\")\r\n",
    "\r\n",
    "df.to_csv(\"data/total_set.csv\", sep=\";\", encoding=\"utf-8\")"
   ],
   "outputs": [
    {
     "output_type": "stream",
     "name": "stdout",
     "text": [
      "['Total households', 'Average household size', 'Household disposable income, per household, real', 'Total population', 'Household disposable income, real', 'Gross domestic product, real', 'Household disposable income, per household, nominal', 'Homeownership rate', 'Housing permits - multi family', 'Housing permits - single family', 'Housing permits - total', 'Housing starts - multi family', 'Housing starts - single family', 'Housing starts - total', 'Income from employment, nominal', 'Income from rent, dividends and interest, nominal', 'Income taxes, nominal', 'Labor force', 'Labor force participation rate', 'Median household income, real', 'Personal disposable income, per capita, real', 'Personal disposable income, per household, real', 'Personal income, per capita, real', 'Personal income, per household, real', 'Proprietors incomes, nominal', 'Social security payments, nominal', 'Unemployment level', 'Unemployment rate', 'CREA house price index', 'Housing starts', 'Labour force participation rate', 'New housing price index', 'Residential building permits', 'Births', 'Deaths', 'Employment - Industry', 'Net migration (including statistical adjustment)', 'Employment - Transport, storage, information & communication services', 'Urban Total Population']\n"
     ]
    }
   ],
   "metadata": {}
  },
  {
   "cell_type": "code",
   "execution_count": null,
   "source": [
    "file_object.close()"
   ],
   "outputs": [],
   "metadata": {}
  },
  {
   "cell_type": "code",
   "execution_count": 29,
   "source": [
    "df_households = pd.read_csv(\r\n",
    "    \"data/Household numbers by income band.csv\",\r\n",
    "    sep=\";\",\r\n",
    "    encoding=\"utf8\")\r\n",
    "\r\n",
    "column_names=[\r\n",
    "    'geographyid',\r\n",
    "    'year'\r\n",
    "]\r\n",
    "\r\n",
    "df_households_ext = pd.DataFrame(columns = column_names)\r\n",
    "household_value_colum_names = []\r\n",
    "\r\n",
    "# Create single data points\r\n",
    "indicator_names = df_households.indicator_name.unique()\r\n",
    "for indicator_name in indicator_names:\r\n",
    "    df_select = df_households[df_households.indicator_name == indicator_name] \r\n",
    "    column_name = indicator_name + \"_value\"\r\n",
    "    household_value_colum_names.append(column_name)\r\n",
    "    df_select[column_name] = df_select['value']\r\n",
    "    frames = [df_households_ext, df_select]\r\n",
    "    df_households_ext = pd.concat(frames)\r\n",
    "\r\n",
    "#print(household_value_colum_names)\r\n",
    "\r\n",
    "columns_to_drop = [\r\n",
    "    'Unnamed: 0',\r\n",
    "    'indicator_name',\r\n",
    "    'geography_iso',\r\n",
    "    'geography_country',\r\n",
    "    'geographyname',\r\n",
    "    'value_unit',\r\n",
    "    'databank',\r\n",
    "    'value'\r\n",
    "    ]\r\n",
    "\r\n",
    "df_households_ext = df_households_ext.drop(columns_to_drop, axis = 1)\r\n",
    "\r\n",
    "df_households_ext.to_csv(\"data/Household numbers by income band_ext.csv\",\r\n",
    "    sep=\";\",\r\n",
    "    encoding=\"utf8\")\r\n"
   ],
   "outputs": [
    {
     "output_type": "stream",
     "name": "stderr",
     "text": [
      "c:\\git\\assignment\\tmp\\python\\assignment-venv\\lib\\site-packages\\pandas\\core\\frame.py:3607: SettingWithCopyWarning: \n",
      "A value is trying to be set on a copy of a slice from a DataFrame.\n",
      "Try using .loc[row_indexer,col_indexer] = value instead\n",
      "\n",
      "See the caveats in the documentation: https://pandas.pydata.org/pandas-docs/stable/user_guide/indexing.html#returning-a-view-versus-a-copy\n",
      "  self._set_item(key, value)\n"
     ]
    }
   ],
   "metadata": {}
  },
  {
   "cell_type": "code",
   "execution_count": 24,
   "source": [
    "df_population = pd.read_csv(\r\n",
    "    \"data/Population.csv\",\r\n",
    "    sep=\";\",\r\n",
    "    encoding=\"utf8\")\r\n",
    "\r\n",
    "column_names=[\r\n",
    "    'geographyid',\r\n",
    "    'year'\r\n",
    "]\r\n",
    "\r\n",
    "df_population_ext = pd.DataFrame(columns = column_names)\r\n",
    "population_value_colum_names = []\r\n",
    "\r\n",
    "# Create single data points\r\n",
    "indicator_names = df_population.indicator_name.unique()\r\n",
    "population_value_colum_names = []\r\n",
    "for indicator_name in indicator_names:\r\n",
    "    df_select = df_population[df_population.indicator_name == indicator_name] \r\n",
    "    column_name = indicator_name + \"_value\"\r\n",
    "    population_value_colum_names.append(column_name)\r\n",
    "    df_select[column_name] = df_select['value']\r\n",
    "    frames = [df_population_ext, df_select]\r\n",
    "    df_population_ext = pd.concat(frames)\r\n",
    "\r\n",
    "#print(population_value_colum_names)\r\n",
    "\r\n",
    "columns_to_drop = [\r\n",
    "    'Unnamed: 0',\r\n",
    "    'indicator_name',\r\n",
    "    'geography_iso',\r\n",
    "    'geography_country',\r\n",
    "    'geographyname',\r\n",
    "    'value_unit',\r\n",
    "    'databank',\r\n",
    "    'value'\r\n",
    "    ]\r\n",
    "\r\n",
    "df_population_ext = df_population_ext.drop(columns_to_drop, axis = 1)\r\n",
    "\r\n",
    "df_population_ext.to_csv(\"data/Population_ext.csv\",\r\n",
    "    sep=\";\",\r\n",
    "    encoding=\"utf8\")\r\n"
   ],
   "outputs": [],
   "metadata": {}
  },
  {
   "cell_type": "code",
   "execution_count": 2,
   "source": [
    "df_consumer_spend = pd.read_csv(\r\n",
    "    \"data/Consumer spending by product.csv\",\r\n",
    "    sep=\";\",\r\n",
    "    encoding=\"utf8\")\r\n",
    "\r\n",
    "df_consumer_spend_ext = pd.DataFrame()\r\n",
    "consumer_value_colum_names = []\r\n",
    "\r\n",
    "columns_to_drop = [\r\n",
    "    'Unnamed: 0',\r\n",
    "    'indicator_name',\r\n",
    "    'geography_iso',\r\n",
    "    'geography_country',\r\n",
    "    'geographyname',\r\n",
    "    'value_unit',\r\n",
    "    'databank',\r\n",
    "    'value'\r\n",
    "    ]\r\n",
    "\r\n",
    "# Create single data points\r\n",
    "indicator_names = df_consumer_spend.indicator_name.unique()\r\n",
    "consumer_value_colum_names = []\r\n",
    "for indicator_name in indicator_names:\r\n",
    "    print(\"indicator_name: \", indicator_name)\r\n",
    "    df_select = df_consumer_spend[\r\n",
    "        df_consumer_spend.indicator_name == indicator_name] \r\n",
    "    column_name = indicator_name + \"_value\"\r\n",
    "    consumer_value_colum_names.append(column_name)\r\n",
    "    df_select[column_name] = df_select['value']\r\n",
    "    df_select = df_select.drop(columns_to_drop, axis=1)\r\n",
    "    df_select = df_select.loc[:, (\"geographyid\", \"year\", column_name)]\r\n",
    "\r\n",
    "    if (len(df_consumer_spend_ext) == 0):\r\n",
    "        df_consumer_spend_ext = df_select\r\n",
    "    else:\r\n",
    "        df_consumer_spend_ext = df_consumer_spend_ext.merge(\r\n",
    "            right=df_select,\r\n",
    "            on=[\"geographyid\", \"year\"],\r\n",
    "            how=\"left\")\r\n",
    "\r\n",
    "    df_consumer_spend_ext.to_csv(\"data/Consumer spending by product_ext.csv\",\r\n",
    "        sep=\";\",\r\n",
    "        encoding=\"utf8\")"
   ],
   "outputs": [
    {
     "output_type": "stream",
     "name": "stdout",
     "text": [
      "indicator_name:  Consumer spending by product / service - Furniture and furnishings, carpets and other floor coverings\n"
     ]
    },
    {
     "output_type": "stream",
     "name": "stderr",
     "text": [
      "c:\\git\\assignment\\tmp\\python\\assignment-venv\\lib\\site-packages\\IPython\\core\\interactiveshell.py:3441: DtypeWarning: Columns (7) have mixed types.Specify dtype option on import or set low_memory=False.\n",
      "  exec(code_obj, self.user_global_ns, self.user_ns)\n",
      "c:\\git\\assignment\\tmp\\python\\assignment-venv\\lib\\site-packages\\pandas\\core\\frame.py:3607: SettingWithCopyWarning: \n",
      "A value is trying to be set on a copy of a slice from a DataFrame.\n",
      "Try using .loc[row_indexer,col_indexer] = value instead\n",
      "\n",
      "See the caveats in the documentation: https://pandas.pydata.org/pandas-docs/stable/user_guide/indexing.html#returning-a-view-versus-a-copy\n",
      "  self._set_item(key, value)\n"
     ]
    },
    {
     "output_type": "error",
     "ename": "NameError",
     "evalue": "name 'df_consumer_spend_ext' is not defined",
     "traceback": [
      "\u001b[1;31m---------------------------------------------------------------------------\u001b[0m",
      "\u001b[1;31mNameError\u001b[0m                                 Traceback (most recent call last)",
      "\u001b[1;32mC:\\Users\\JVANDE~1\\AppData\\Local\\Temp\\1/ipykernel_7704/456203207.py\u001b[0m in \u001b[0;36m<module>\u001b[1;34m\u001b[0m\n\u001b[0;32m     30\u001b[0m     \u001b[0mdf_select\u001b[0m \u001b[1;33m=\u001b[0m \u001b[0mdf_select\u001b[0m\u001b[1;33m.\u001b[0m\u001b[0mloc\u001b[0m\u001b[1;33m[\u001b[0m\u001b[1;33m:\u001b[0m\u001b[1;33m,\u001b[0m \u001b[1;33m(\u001b[0m\u001b[1;34m\"geographyid\"\u001b[0m\u001b[1;33m,\u001b[0m \u001b[1;34m\"year\"\u001b[0m\u001b[1;33m,\u001b[0m \u001b[0mcolumn_name\u001b[0m\u001b[1;33m)\u001b[0m\u001b[1;33m]\u001b[0m\u001b[1;33m\u001b[0m\u001b[1;33m\u001b[0m\u001b[0m\n\u001b[0;32m     31\u001b[0m \u001b[1;33m\u001b[0m\u001b[0m\n\u001b[1;32m---> 32\u001b[1;33m     \u001b[1;32mif\u001b[0m \u001b[1;33m(\u001b[0m\u001b[0mlen\u001b[0m\u001b[1;33m(\u001b[0m\u001b[0mdf_consumer_spend_ext\u001b[0m\u001b[1;33m)\u001b[0m \u001b[1;33m==\u001b[0m \u001b[1;36m0\u001b[0m\u001b[1;33m)\u001b[0m\u001b[1;33m:\u001b[0m\u001b[1;33m\u001b[0m\u001b[1;33m\u001b[0m\u001b[0m\n\u001b[0m\u001b[0;32m     33\u001b[0m         \u001b[0mdf_consumer_spend_ext\u001b[0m \u001b[1;33m=\u001b[0m \u001b[0mdf_select\u001b[0m\u001b[1;33m\u001b[0m\u001b[1;33m\u001b[0m\u001b[0m\n\u001b[0;32m     34\u001b[0m     \u001b[1;32melse\u001b[0m\u001b[1;33m:\u001b[0m\u001b[1;33m\u001b[0m\u001b[1;33m\u001b[0m\u001b[0m\n",
      "\u001b[1;31mNameError\u001b[0m: name 'df_consumer_spend_ext' is not defined"
     ]
    }
   ],
   "metadata": {}
  },
  {
   "cell_type": "code",
   "execution_count": null,
   "source": [
    "\r\n",
    "\r\n",
    "df_merged1 = df_households_ext.merge(\r\n",
    "    df_population_ext,\r\n",
    "    on=[\"geographyid\", \"year\"])\r\n",
    "\r\n",
    "df_consumer_spend_ext\r\n",
    "df_population_ext\r\n",
    "df_households_ext\r\n",
    "\r\n",
    "df_merged1.to_csv(\"data/df_merged.csv\", sep=\";\", encoding=\"utf8\")"
   ],
   "outputs": [],
   "metadata": {}
  }
 ],
 "metadata": {
  "orig_nbformat": 4,
  "language_info": {
   "name": "python",
   "version": "3.7.9",
   "mimetype": "text/x-python",
   "codemirror_mode": {
    "name": "ipython",
    "version": 3
   },
   "pygments_lexer": "ipython3",
   "nbconvert_exporter": "python",
   "file_extension": ".py"
  },
  "kernelspec": {
   "name": "python3",
   "display_name": "Python 3.7.9 64-bit ('assignment-venv': venv)"
  },
  "interpreter": {
   "hash": "fee9289b9a52d917789962c3013490bc2b85849b99b177a8bae5cb7010a89db6"
  }
 },
 "nbformat": 4,
 "nbformat_minor": 2
}